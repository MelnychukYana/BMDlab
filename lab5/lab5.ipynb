{
 "cells": [
  {
   "cell_type": "markdown",
   "metadata": {},
   "source": [
    "<h1 align=\"center\" style=\"color:#FF0800\">\n",
    " Обробка та аналіз БМД.<br>\n",
    " Группа: БС-83<br>\n",
    " Мельничук Я.O.<br>\n",
    " Практикум Номер 5<br\\></h1>"
   ]
  },
  {
   "cell_type": "markdown",
   "metadata": {},
   "source": [
    "1. Обрати реальні дані з kaggle або сгенерувати випадкові дані, що містять розподіл деякої ознаки в двох групах"
   ]
  },
  {
   "cell_type": "code",
   "execution_count": 1,
   "metadata": {},
   "outputs": [],
   "source": [
    "import seaborn as sns\n",
    "import numpy as np\n",
    "import matplotlib.pyplot as plt\n",
    "import pandas as pd\n",
    "%matplotlib inline"
   ]
  },
  {
   "cell_type": "code",
   "execution_count": 2,
   "metadata": {},
   "outputs": [
    {
     "data": {
      "text/html": [
       "<div>\n",
       "<style scoped>\n",
       "    .dataframe tbody tr th:only-of-type {\n",
       "        vertical-align: middle;\n",
       "    }\n",
       "\n",
       "    .dataframe tbody tr th {\n",
       "        vertical-align: top;\n",
       "    }\n",
       "\n",
       "    .dataframe thead th {\n",
       "        text-align: right;\n",
       "    }\n",
       "</style>\n",
       "<table border=\"1\" class=\"dataframe\">\n",
       "  <thead>\n",
       "    <tr style=\"text-align: right;\">\n",
       "      <th></th>\n",
       "      <th>N1</th>\n",
       "      <th>N2</th>\n",
       "    </tr>\n",
       "  </thead>\n",
       "  <tbody>\n",
       "    <tr>\n",
       "      <th>O_1</th>\n",
       "      <td>10</td>\n",
       "      <td>21</td>\n",
       "    </tr>\n",
       "    <tr>\n",
       "      <th>O_2</th>\n",
       "      <td>45</td>\n",
       "      <td>38</td>\n",
       "    </tr>\n",
       "    <tr>\n",
       "      <th>O_3</th>\n",
       "      <td>50</td>\n",
       "      <td>5</td>\n",
       "    </tr>\n",
       "    <tr>\n",
       "      <th>O_4</th>\n",
       "      <td>6</td>\n",
       "      <td>19</td>\n",
       "    </tr>\n",
       "    <tr>\n",
       "      <th>O_5</th>\n",
       "      <td>36</td>\n",
       "      <td>20</td>\n",
       "    </tr>\n",
       "  </tbody>\n",
       "</table>\n",
       "</div>"
      ],
      "text/plain": [
       "     N1  N2\n",
       "O_1  10  21\n",
       "O_2  45  38\n",
       "O_3  50   5\n",
       "O_4   6  19\n",
       "O_5  36  20"
      ]
     },
     "execution_count": 2,
     "metadata": {},
     "output_type": "execute_result"
    }
   ],
   "source": [
    "table = pd.DataFrame({'N1':[10,45,50,6,36],\n",
    "                      'N2':[21,38,5,19,20]},\n",
    "                    index = ['O_1','O_2','O_3','O_4','O_5'])\n",
    "table"
   ]
  },
  {
   "cell_type": "markdown",
   "metadata": {},
   "source": [
    "2. Побудувати графік, що відображає розподіл ознак в групах."
   ]
  },
  {
   "cell_type": "code",
   "execution_count": 3,
   "metadata": {},
   "outputs": [
    {
     "data": {
      "text/plain": [
       "[<matplotlib.lines.Line2D at 0x24865ac5848>]"
      ]
     },
     "execution_count": 3,
     "metadata": {},
     "output_type": "execute_result"
    },
    {
     "data": {
      "image/png": "[encoded data removed]",
      "text/plain": [
       "<Figure size 432x288 with 2 Axes>"
      ]
     },
     "metadata": {
      "needs_background": "light"
     },
     "output_type": "display_data"
    }
   ],
   "source": [
    "plt.subplot(1, 2, 1) \n",
    "plt.plot(table.index, table['N1'], 'y')\n",
    "\n",
    "plt.subplot(1, 2, 2) \n",
    "plt.plot(table.index, table['N2'], 'b')"
   ]
  },
  {
   "cell_type": "code",
   "execution_count": 4,
   "metadata": {},
   "outputs": [
    {
     "data": {
      "text/plain": [
       "Text(0.5, 0, 'Градація ознак')"
      ]
     },
     "execution_count": 4,
     "metadata": {},
     "output_type": "execute_result"
    },
    {
     "data": {
      "image/png": "[encoded data removed]",
      "text/plain": [
       "<Figure size 432x288 with 1 Axes>"
      ]
     },
     "metadata": {
      "needs_background": "light"
     },
     "output_type": "display_data"
    }
   ],
   "source": [
    "plt.bar(table.index, table['N1'])\n",
    "plt.title(\"N1\")\n",
    "plt.ylabel(\"Частоти\")\n",
    "plt.xlabel(\"Градація ознак\")"
   ]
  },
  {
   "cell_type": "code",
   "execution_count": 5,
   "metadata": {},
   "outputs": [
    {
     "data": {
      "text/plain": [
       "Text(0.5, 0, 'Градація ознак')"
      ]
     },
     "execution_count": 5,
     "metadata": {},
     "output_type": "execute_result"
    },
    {
     "data": {
      "image/png": "[encoded data removed]",
      "text/plain": [
       "<Figure size 432x288 with 1 Axes>"
      ]
     },
     "metadata": {
      "needs_background": "light"
     },
     "output_type": "display_data"
    }
   ],
   "source": [
    "plt.bar(table.index, table['N2'])\n",
    "plt.title(\"N2\")\n",
    "plt.ylabel(\"Частоти\")\n",
    "plt.xlabel(\"Градація ознак\")"
   ]
  },
  {
   "cell_type": "markdown",
   "metadata": {},
   "source": [
    "3. Написати функції, що оцінює зв'язок між ознакою та групою за критерієм Пірсона. Функція має оцінювати розбіжність на двох рівнях - 0,001 та 0,05, в залежністі від параметру significant_level, що передається в неї. Врахувати у функції випадок, що сума частот ознаки у групах може бути відмінною."
   ]
  },
  {
   "cell_type": "code",
   "execution_count": 6,
   "metadata": {},
   "outputs": [],
   "source": [
    "def Pirson_x_sq (table, significant_level, num_level):\n",
    "  \n",
    "    print(\"-------------------------------------------\")\n",
    "    print(\"significant_level = \", significant_level)\n",
    "    print(\"-------------------------------------------\")\n",
    "    zm = 0\n",
    "    proba = 0\n",
    "    x_emp = 0\n",
    "    gr_n=[]   \n",
    "    gr_n_div=[] \n",
    "    \n",
    "    l_st=len(table.iloc[:,0])\n",
    "    for i in range(l_st):\n",
    "        zm = table.iloc[i,0] - table.iloc[i,1]\n",
    "        zm_sq = zm**2 \n",
    "        gr_n.append(zm_sq)\n",
    "        zm_sq_div = zm_sq/table.iloc[i,1] \n",
    "        gr_n_div.append(zm_sq_div)\n",
    "        x_emp += zm_sq_div \n",
    "  \n",
    "    table[\"(n-n')^2\"] = gr_n         \n",
    "    table[\"(n-n')^2 / n\"] = gr_n_div\n",
    "    print(table)\n",
    "    print('')\n",
    "    print(\"Сума отриманих значень: χ^2 =\",x_emp)\n",
    "    \n",
    "    \n",
    "    p= l_st - 1\n",
    "    print(\"Ступінь свободи: p =\",p)\n",
    "    \n",
    "\n",
    "\n",
    "    import xlrd, xlwt\n",
    "    \n",
    "    rb = xlrd.open_workbook('x_criticale.xlsx')\n",
    "    \n",
    "    sheet = rb.sheet_by_index(0)\n",
    "    \n",
    "    \n",
    "    x_kr = sheet.row_values(p+1)[num_level]\n",
    "    print(\"χ^2 критичне = \", x_kr)\n",
    "    \n",
    "    text_ = 0   \n",
    "    if((x_emp**2) > (x_kr**2)):\n",
    "        text_ = \"Розбіжність значима бо χ^2 > χ^2(критичне)\"%table\n",
    "        result = \"significant\"\n",
    "    else:\n",
    "        text_ = \"Розбіжність незначима бо χ^2 < χ^2(критичне)\"%table\n",
    "        result = \"not significant\"\n",
    "    print(text_)\n",
    "    print(\"\")\n",
    "    return result"
   ]
  },
  {
   "cell_type": "code",
   "execution_count": 7,
   "metadata": {},
   "outputs": [
    {
     "name": "stdout",
     "output_type": "stream",
     "text": [
      "-------------------------------------------\n",
      "significant_level =  0.01\n",
      "-------------------------------------------\n",
      "     N1  N2  (n-n')^2  (n-n')^2 / n\n",
      "O_1  10  21       121      5.761905\n",
      "O_2  45  38        49      1.289474\n",
      "O_3  50   5      2025    405.000000\n",
      "O_4   6  19       169      8.894737\n",
      "O_5  36  20       256     12.800000\n",
      "\n",
      "Сума отриманих значень: χ^2 = 433.74611528822055\n",
      "Ступінь свободи: p = 4\n",
      "χ^2 критичне =  13.3\n",
      "Розбіжність значима бо χ^2 > χ^2(критичне)\n",
      "\n"
     ]
    },
    {
     "data": {
      "text/plain": [
       "'significant'"
      ]
     },
     "execution_count": 7,
     "metadata": {},
     "output_type": "execute_result"
    }
   ],
   "source": [
    "Pirson_x_sq (table, 0.01, 1)"
   ]
  },
  {
   "cell_type": "markdown",
   "metadata": {},
   "source": [
    "Написати функцію для визначення відмінності між групами за критерієм Стьюдента. Функція має повертати значення критерію Стьюдента,значення ступеня свободи та результат оцінки значимості зв'зку (significant або not significant)"
   ]
  },
  {
   "cell_type": "code",
   "execution_count": 8,
   "metadata": {},
   "outputs": [
    {
     "name": "stdout",
     "output_type": "stream",
     "text": [
      "-------------------------------------------\n",
      "significant_level =  0.05\n",
      "-------------------------------------------\n",
      "     N1  N2  (n-n')^2  (n-n')^2 / n\n",
      "O_1  10  21       121      5.761905\n",
      "O_2  45  38        49      1.289474\n",
      "O_3  50   5      2025    405.000000\n",
      "O_4   6  19       169      8.894737\n",
      "O_5  36  20       256     12.800000\n",
      "\n",
      "Сума отриманих значень: χ^2 = 433.74611528822055\n",
      "Ступінь свободи: p = 4\n",
      "χ^2 критичне =  9.5\n",
      "Розбіжність значима бо χ^2 > χ^2(критичне)\n",
      "\n"
     ]
    },
    {
     "data": {
      "text/plain": [
       "'significant'"
      ]
     },
     "execution_count": 8,
     "metadata": {},
     "output_type": "execute_result"
    }
   ],
   "source": [
    "Pirson_x_sq (table, 0.05, 2)"
   ]
  },
  {
   "cell_type": "markdown",
   "metadata": {},
   "source": [
    "Додати до таблиці стовбчики з відсотовим розподілом по градаціям всередині груп. Окремо вивести результати роботи критерію (чи є статистична розбіжність між групами)"
   ]
  },
  {
   "cell_type": "code",
   "execution_count": 10,
   "metadata": {},
   "outputs": [
    {
     "name": "stdout",
     "output_type": "stream",
     "text": [
      "     N1  N2      N1 %      N2 %\n",
      "O_1  10  21   6.80272  20.38835\n",
      "O_2  45  38  30.61224  36.89320\n",
      "O_3  50   5  34.01361   4.85437\n",
      "O_4   6  19   4.08163  18.44660\n",
      "O_5  36  20  24.48980  19.41748\n"
     ]
    }
   ],
   "source": [
    "s_1 = 0\n",
    "s_2 = 0\n",
    "\n",
    "len_st=len(table.iloc[:,0])\n",
    "\n",
    "for i in range(len_st):\n",
    "    s_1 += table.iloc[i,0]\n",
    "    \n",
    "for i in range(len_st):\n",
    "    s_2 += table.iloc[i,1]\n",
    "\n",
    "gr_1_per = []\n",
    "gr_2_per = []\n",
    "\n",
    "m1 = 0\n",
    "for i in range(len_st):\n",
    "    m1 = (table.iloc[i,0] * 100) / s_1\n",
    "    m1 = float('{:.5f}'.format(m1)) \n",
    "    gr_1_per.append(m1)\n",
    "\n",
    "m2 = 0\n",
    "for i in range(len_st):\n",
    "    m2 = (table.iloc[i,1] * 100) / s_2\n",
    "    m2 = float('{:.5f}'.format(m2)) \n",
    "    gr_2_per.append(m2)\n",
    "\n",
    "#Формуємо таблицю\n",
    "new_table = pd.DataFrame({'N1':[10,45,50,6,36],\n",
    "                      'N2':[21,38,5,19,20]},\n",
    "                    index = ['O_1','O_2','O_3','O_4','O_5'])\n",
    "\n",
    "new_table[\"N1 %\"] = gr_1_per         \n",
    "new_table[\"N2 %\"] = gr_2_per\n",
    "print(new_table)"
   ]
  },
  {
   "cell_type": "code",
   "execution_count": null,
   "metadata": {},
   "outputs": [],
   "source": [
    "result_table = pd.DataFrame( {\"Рівень значимості\":[Pirson_x_sq (table, 0.01, 1), Pirson_x_sq (table, 0.05, 2)]},\n",
    "                        index = [\"0.01\",\"0.05\"])\n",
    "result_table.columns.name = \"significant level\"\n",
    "result_table"
   ]
  },
  {
   "cell_type": "markdown",
   "metadata": {},
   "source": [
    "Висновок:\n",
    "\n",
    "Під час порівняння декількох груп за розподіленням ознаки за допомогою Критерію Пірсона, було отримано результат, що статична розбіжність між групами на рівнях значимості 0.05 і 0.01 є значимою, так як в двох випадках χ^2 > χ^2(критичне)"
   ]
  },
  {
   "cell_type": "code",
   "execution_count": null,
   "metadata": {},
   "outputs": [],
   "source": []
  }
 ],
 "metadata": {
  "kernelspec": {
   "display_name": "Python 3",
   "language": "python",
   "name": "python3"
  },
  "language_info": {
   "codemirror_mode": {
    "name": "ipython",
    "version": 3
   },
   "file_extension": ".py",
   "mimetype": "text/x-python",
   "name": "python",
   "nbconvert_exporter": "python",
   "pygments_lexer": "ipython3",
   "version": "3.7.6"
  }
 },
 "nbformat": 4,
 "nbformat_minor": 4
}
