{
 "cells": [
  {
   "cell_type": "markdown",
   "metadata": {},
   "source": [
    "<h1 align=\"center\" style=\"color:#FF0800\">\n",
    " Обробка та аналіз БМД.<br>\n",
    " Группа: БС-83<br>\n",
    " Мельничук Я.O.<br>\n",
    " Практикум Номер 6<br\\></h1>"
   ]
  },
  {
   "cell_type": "markdown",
   "metadata": {},
   "source": [
    "1. Обрати реальні дані з kaggle або сгенерувати випадкові дані. Дані мають відповідати вимогам"
   ]
  },
  {
   "cell_type": "code",
   "execution_count": 1,
   "metadata": {},
   "outputs": [],
   "source": [
    "import scipy.stats as ss\n",
    "import numpy as np\n",
    "import pandas as pd\n",
    "import math\n",
    "import matplotlib.pyplot as plt\n",
    "import seaborn as sns"
   ]
  },
  {
   "cell_type": "code",
   "execution_count": 2,
   "metadata": {},
   "outputs": [
    {
     "data": {
      "text/html": [
       "<div>\n",
       "<style scoped>\n",
       "    .dataframe tbody tr th:only-of-type {\n",
       "        vertical-align: middle;\n",
       "    }\n",
       "\n",
       "    .dataframe tbody tr th {\n",
       "        vertical-align: top;\n",
       "    }\n",
       "\n",
       "    .dataframe thead th {\n",
       "        text-align: right;\n",
       "    }\n",
       "</style>\n",
       "<table border=\"1\" class=\"dataframe\">\n",
       "  <thead>\n",
       "    <tr style=\"text-align: right;\">\n",
       "      <th>Температура пацієнта, °C</th>\n",
       "      <th>До прийому ліків</th>\n",
       "      <th>Після прийому ліків</th>\n",
       "    </tr>\n",
       "    <tr>\n",
       "      <th>№ пациента</th>\n",
       "      <th></th>\n",
       "      <th></th>\n",
       "    </tr>\n",
       "  </thead>\n",
       "  <tbody>\n",
       "    <tr>\n",
       "      <th>1</th>\n",
       "      <td>39.4</td>\n",
       "      <td>37.7</td>\n",
       "    </tr>\n",
       "    <tr>\n",
       "      <th>2</th>\n",
       "      <td>38.5</td>\n",
       "      <td>36.9</td>\n",
       "    </tr>\n",
       "    <tr>\n",
       "      <th>3</th>\n",
       "      <td>39.8</td>\n",
       "      <td>37.4</td>\n",
       "    </tr>\n",
       "    <tr>\n",
       "      <th>4</th>\n",
       "      <td>37.5</td>\n",
       "      <td>37.5</td>\n",
       "    </tr>\n",
       "    <tr>\n",
       "      <th>5</th>\n",
       "      <td>38.3</td>\n",
       "      <td>36.8</td>\n",
       "    </tr>\n",
       "    <tr>\n",
       "      <th>6</th>\n",
       "      <td>39.9</td>\n",
       "      <td>37.5</td>\n",
       "    </tr>\n",
       "    <tr>\n",
       "      <th>7</th>\n",
       "      <td>38.2</td>\n",
       "      <td>37.1</td>\n",
       "    </tr>\n",
       "    <tr>\n",
       "      <th>8</th>\n",
       "      <td>39.5</td>\n",
       "      <td>36.9</td>\n",
       "    </tr>\n",
       "    <tr>\n",
       "      <th>9</th>\n",
       "      <td>38.1</td>\n",
       "      <td>37.5</td>\n",
       "    </tr>\n",
       "    <tr>\n",
       "      <th>10</th>\n",
       "      <td>37.6</td>\n",
       "      <td>36.6</td>\n",
       "    </tr>\n",
       "  </tbody>\n",
       "</table>\n",
       "</div>"
      ],
      "text/plain": [
       "Температура пацієнта, °C  До прийому ліків  Після прийому ліків\n",
       "№ пациента                                                     \n",
       "1                                     39.4                 37.7\n",
       "2                                     38.5                 36.9\n",
       "3                                     39.8                 37.4\n",
       "4                                     37.5                 37.5\n",
       "5                                     38.3                 36.8\n",
       "6                                     39.9                 37.5\n",
       "7                                     38.2                 37.1\n",
       "8                                     39.5                 36.9\n",
       "9                                     38.1                 37.5\n",
       "10                                    37.6                 36.6"
      ]
     },
     "execution_count": 2,
     "metadata": {},
     "output_type": "execute_result"
    }
   ],
   "source": [
    "table1=[]\n",
    "table1 = [39.4,38.5,39.8,37.5,38.3,39.9,38.2,39.5,38.1,37.6,]\n",
    "table2=[]\n",
    "table2 = [37.7, 36.9, 37.4,37.5,36.8,37.5,37.1,36.9,37.5,36.6]\n",
    "df = pd.DataFrame({\n",
    "    'До прийому ліків': table1,\n",
    "    'Після прийому ліків': table2\n",
    "}, index=np.arange(1, len(table1)+1))\n",
    "df.columns.name = 'Температура пацієнта, °C'\n",
    "df.index.name = '№ пациента'\n",
    "df"
   ]
  },
  {
   "cell_type": "markdown",
   "metadata": {},
   "source": [
    "2. Побудувати графік, що відображає розкид даних в групах"
   ]
  },
  {
   "cell_type": "code",
   "execution_count": 3,
   "metadata": {},
   "outputs": [
    {
     "data": {
      "text/plain": [
       "[]"
      ]
     },
     "execution_count": 3,
     "metadata": {},
     "output_type": "execute_result"
    },
    {
     "data": {
      "image/png": "[encoded data removed]",
      "text/plain": [
       "<Figure size 432x288 with 1 Axes>"
      ]
     },
     "metadata": {
      "needs_background": "light"
     },
     "output_type": "display_data"
    }
   ],
   "source": [
    "sns.boxplot(data=df, orient='h', palette='bright').set()"
   ]
  },
  {
   "cell_type": "markdown",
   "metadata": {},
   "source": [
    "3. Написати функції:для оцінки зв'язку між групами за коефіцієнтом кореляції Пірсона. Функція має повертати значення коефіцієнту кореляції, значення ступеня свободи та результат оцінки значимості зв'зку (significant або not significant)."
   ]
  },
  {
   "cell_type": "code",
   "execution_count": 4,
   "metadata": {},
   "outputs": [],
   "source": [
    "def mas(massiv,n):\n",
    "    s1= 0\n",
    "    for i in range(n):\n",
    "        s1+=((massiv[i])**2)\n",
    "    return s1\n",
    "def Pirson(x, y):\n",
    "    n = len(x)\n",
    "    s1=sum(x)\n",
    "    s2=sum(y)\n",
    "    d=s1*s2\n",
    "    k=0\n",
    "    for i in range(n):\n",
    "        k+=x[i]*y[i]\n",
    "    s3=mas(x,n)\n",
    "    s4=(sum(x))**2\n",
    "    s5=mas(y,n)\n",
    "    s6=((sum(y))**2)\n",
    "    result=0\n",
    "    p = ((n * k)-d)/(math.sqrt((n*s3-s4)*(n*s5-s6)))\n",
    "    print('Отримане значення коефіцієнту кореляції Пірсона: p = ' + str(p))\n",
    "    r= len(x)-2\n",
    "    print('Значення ступеня свободи: r = ' + str(r))\n",
    "    table = pd.read_excel(\"Таблица критических значений коэфициента корреляции Пирсона.xlsx\").iloc[r-1, 1 ]\n",
    "    print(\"Критичне значення коефіцієнту кореляції = \" + str(table))\n",
    "    if table<p:\n",
    "        result = \"Оскільки значення коефіцієнту кореляції Пірсона більше, ніж його критичне значення, то результат оцінки значимості зв'зку - significant\"\n",
    "    else:\n",
    "        result = \"Оскільки значення коефіцієнту кореляції Пірсона менше, ніж його критичне значення, то результат оцінки значимості зв'зку -  not significant\"\n",
    "    return result"
   ]
  },
  {
   "cell_type": "code",
   "execution_count": 5,
   "metadata": {},
   "outputs": [],
   "source": [
    "def Student(x, y):\n",
    "    n=len(x)\n",
    "    d=[]*n\n",
    "    for i in range(n):\n",
    "        d.append(x[i] - y[i])\n",
    "    M=sum(d)/n\n",
    "    L=0\n",
    "    for i in range(n):\n",
    "        L += ((M-d[i])**2)\n",
    "    sigma = math.sqrt((L)/(n-1))\n",
    "    tmp = M/(sigma/math.sqrt(n))\n",
    "    print('Отримане значення t-критерію Стьюдента:  ' + str(tmp))\n",
    "    r = n - 1\n",
    "    print('Значення ступеня свободи: r = ' + str(r))\n",
    "    table = pd.read_excel(\"Таблица критических значений для парного критерия.xlsx\").iloc[r-1, 1 ]\n",
    "    print(\"Критичне значення коефіцієнту Стьюдента = \" + str(table))\n",
    "    if table<tmp:\n",
    "        result = \"Оскільки значення коефіцієнту Стьюдента більше, ніж його критичне значення, то результат оцінки значимості зв'зку - significant\"\n",
    "    else:\n",
    "        result = \"Оскільки значення коефіцієнту Стьюдента менше, ніж його критичне значення, то результат оцінки значимості зв'зку -  not significant\"\n",
    "    return result"
   ]
  },
  {
   "cell_type": "code",
   "execution_count": 6,
   "metadata": {},
   "outputs": [
    {
     "name": "stdout",
     "output_type": "stream",
     "text": [
      "Отримане значення коефіцієнту кореляції Пірсона: p = 0.3557448901725421\n",
      "Значення ступеня свободи: r = 8\n",
      "Критичне значення коефіцієнту кореляції = 0.6319\n"
     ]
    },
    {
     "data": {
      "text/plain": [
       "\"Оскільки значення коефіцієнту кореляції Пірсона менше, ніж його критичне значення, то результат оцінки значимості зв'зку -  not significant\""
      ]
     },
     "execution_count": 6,
     "metadata": {},
     "output_type": "execute_result"
    }
   ],
   "source": [
    "Pirson(table1, table2)"
   ]
  },
  {
   "cell_type": "code",
   "execution_count": 7,
   "metadata": {},
   "outputs": [
    {
     "name": "stdout",
     "output_type": "stream",
     "text": [
      "Отримане значення t-критерію Стьюдента:  5.609896639472065\n",
      "Значення ступеня свободи: r = 9\n",
      "Критичне значення коефіцієнту Стьюдента = 2.262\n"
     ]
    },
    {
     "data": {
      "text/plain": [
       "\"Оскільки значення коефіцієнту Стьюдента більше, ніж його критичне значення, то результат оцінки значимості зв'зку - significant\""
      ]
     },
     "execution_count": 7,
     "metadata": {},
     "output_type": "execute_result"
    }
   ],
   "source": [
    "Student(table1,table2)"
   ]
  },
  {
   "cell_type": "markdown",
   "metadata": {},
   "source": [
    "Висновок: \n"
   ]
  },
  {
   "cell_type": "markdown",
   "metadata": {},
   "source": [
    "в результаті аналізу данних показників температури до та після прийому препарату виявлено:\n"
   ]
  },
  {
   "cell_type": "markdown",
   "metadata": {},
   "source": [
    "1) Відсутність статистичної залежності."
   ]
  },
  {
   "cell_type": "markdown",
   "metadata": {},
   "source": [
    "2) Так як отримане значення критерію Стьюдента більше критичного, робимо висновок про наявність статистично значущих відмінностей до та після прийому нового препарату. Була прийнята альтернативна гіпотеза про відмінність середніх."
   ]
  },
  {
   "cell_type": "code",
   "execution_count": null,
   "metadata": {},
   "outputs": [],
   "source": []
  }
 ],
 "metadata": {
  "kernelspec": {
   "display_name": "Python 3",
   "language": "python",
   "name": "python3"
  },
  "language_info": {
   "codemirror_mode": {
    "name": "ipython",
    "version": 3
   },
   "file_extension": ".py",
   "mimetype": "text/x-python",
   "name": "python",
   "nbconvert_exporter": "python",
   "pygments_lexer": "ipython3",
   "version": "3.7.6"
  }
 },
 "nbformat": 4,
 "nbformat_minor": 4
}
